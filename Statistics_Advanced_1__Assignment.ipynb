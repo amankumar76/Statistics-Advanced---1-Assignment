{
  "nbformat": 4,
  "nbformat_minor": 0,
  "metadata": {
    "colab": {
      "provenance": []
    },
    "kernelspec": {
      "name": "python3",
      "display_name": "Python 3"
    },
    "language_info": {
      "name": "python"
    }
  },
  "cells": [
    {
      "cell_type": "markdown",
      "source": [
        "# **Statistics Advanced - 1| Assignment**\n",
        "\n",
        "---\n"
      ],
      "metadata": {
        "id": "UrhHCiYuboeW"
      }
    },
    {
      "cell_type": "markdown",
      "source": [
        "Question 1: What is a random variable in probability theory?\n",
        "\n",
        "Answer:\n",
        "\n",
        "A random variable is a numerical outcome of a random phenomenon or experiment. It assigns numerical values to the outcomes in a sample space. There are two main types: discrete (having countable outcomes) and continuous (having infinite outcomes within a range).\n"
      ],
      "metadata": {
        "id": "L8847edCbrI_"
      }
    },
    {
      "cell_type": "markdown",
      "source": [
        "Question 2: What are the types of random variables?\n",
        "\n",
        "Answer:\n",
        "\n",
        "The two main types of random variables are:\n",
        "\n",
        "  - Discrete Random Variable: Takes on a countable number of distinct values (e.g., number of heads in coin tosses).\n",
        "\n",
        "  -Continuous Random Variable: Takes on an infinite number of possible values within a range (e.g., height, weight, temperature).\n",
        "\n"
      ],
      "metadata": {
        "id": "oW47JJq4brUg"
      }
    },
    {
      "cell_type": "markdown",
      "source": [
        "Question 3: Explain the difference between discrete and continuous distributions.\n",
        "\n",
        "Answer:\n",
        "\n",
        "  - Discrete distributions describe the probability of outcomes of a discrete random variable (e.g., Binomial distribution).\n",
        "\n",
        "  - Continuous distributions describe probabilities of a continuous random variable using a probability density function (e.g., Normal distribution).\n",
        "  \n",
        "The key difference is that discrete variables have specific, countable outcomes, while continuous variables can take any value within a range"
      ],
      "metadata": {
        "id": "rNlR25DSbsKU"
      }
    },
    {
      "cell_type": "markdown",
      "source": [
        "Question 4: What is a binomial distribution, and how is it used in probability?\n",
        "\n",
        "Answer:\n",
        "\n",
        "A binomial distribution represents the number of successes in a fixed number of independent trials, each with the same probability of success. It is used in scenarios like determining the probability of a specific number of heads in multiple coin tosses. It is defined by two parameters:\n",
        "\n",
        "\n",
        "  - n (number of trials)\n",
        "\n",
        "  - p (probability of success)"
      ],
      "metadata": {
        "id": "00TKVBvvbsVI"
      }
    },
    {
      "cell_type": "markdown",
      "source": [
        "Question 5: What is the standard normal distribution, and why is it important?\n",
        "\n",
        "Answer:\n",
        "\n",
        "The standard normal distribution is a special case of the normal distribution with a mean of 0 and a standard deviation of 1. It's important because it simplifies calculations in statistics and forms the basis for many statistical methods, such as hypothesis testing and confidence intervals.\n",
        "\n"
      ],
      "metadata": {
        "id": "kUJpNPx6boq9"
      }
    },
    {
      "cell_type": "markdown",
      "source": [
        "Question 6: What is the Central Limit Theorem (CLT), and why is it critical in statistics?\n",
        "\n",
        "Answer:\n",
        "\n",
        "The Central Limit Theorem states that the sampling distribution of the sample mean will approximate a normal distribution, regardless of the population's distribution, if the sample size is sufficiently large. It is critical because it allows statisticians to use normal probability methods for inference even when the data isn’t normally distributed.\n",
        "\n"
      ],
      "metadata": {
        "id": "wJGWOvfwbo2_"
      }
    },
    {
      "cell_type": "markdown",
      "source": [
        "Question 7: What is the significance of confidence intervals in statistical analysis?\n",
        "\n",
        "Answer:\n",
        "\n",
        "A confidence interval provides a range of values, derived from sample data, that is likely to contain the true population parameter. It reflects the uncertainty or reliability of an estimate. For example, a 95% confidence interval suggests that if we repeated the experiment 100 times, the true parameter would fall within the interval 95 times."
      ],
      "metadata": {
        "id": "IQiLTZ5NbpCO"
      }
    },
    {
      "cell_type": "markdown",
      "source": [
        "Question 8: What is the concept of expected value in a probability distribution?\n",
        "\n",
        "Answer:\n",
        "\n",
        "The expected value is the long-run average outcome of a random variable over many trials. It is calculated by summing the products of each possible value and its corresponding probability. Mathematically,\n",
        "E(X) = Σ [x × P(x)] for discrete variables.\n",
        "It provides a measure of the central tendency of the distribution."
      ],
      "metadata": {
        "id": "RmQ-jRIOdJ5d"
      }
    },
    {
      "cell_type": "markdown",
      "source": [
        "Question 9: Write a Python program to generate 1000 random numbers from a normal distribution with mean = 50 and standard deviation = 5. Compute its mean and standard deviation using NumPy, and draw a histogram to visualize the distribution.\n"
      ],
      "metadata": {
        "id": "ZFU_tgvudOXe"
      }
    },
    {
      "cell_type": "code",
      "source": [
        "import numpy as np\n",
        "import matplotlib.pyplot as plt\n",
        "\n",
        "# Generate 1000 random numbers from normal distribution\n",
        "mean = 50\n",
        "std_dev = 5\n",
        "data = np.random.normal(loc=mean, scale=std_dev, size=1000)\n",
        "\n",
        "# Compute mean and standard deviation\n",
        "calculated_mean = np.mean(data)\n",
        "calculated_std = np.std(data)\n",
        "\n",
        "print(f\"Mean of the generated data: {calculated_mean:.2f}\")\n",
        "print(f\"Standard Deviation of the generated data: {calculated_std:.2f}\")\n",
        "\n",
        "# Plot histogram\n",
        "plt.hist(data, bins=30, color='skyblue', edgecolor='black')\n",
        "plt.title(\"Histogram of Normally Distributed Data\")\n",
        "plt.xlabel(\"Value\")\n",
        "plt.ylabel(\"Frequency\")\n",
        "plt.grid(True)\n",
        "plt.show()"
      ],
      "metadata": {
        "colab": {
          "base_uri": "https://localhost:8080/",
          "height": 507
        },
        "id": "mHZ8Lts8dsoN",
        "outputId": "f3d3d2c1-2fb1-4c91-fc17-38b47df973a1"
      },
      "execution_count": 1,
      "outputs": [
        {
          "output_type": "stream",
          "name": "stdout",
          "text": [
            "Mean of the generated data: 50.16\n",
            "Standard Deviation of the generated data: 5.08\n"
          ]
        },
        {
          "output_type": "display_data",
          "data": {
            "text/plain": [
              "<Figure size 640x480 with 1 Axes>"
            ],
            "image/png": "[encoded data removed]"
          },
          "metadata": {}
        }
      ]
    },
    {
      "cell_type": "markdown",
      "source": [
        "Question 10: You are working as a data analyst for a retail company. The company has collected daily sales data for 2 years and wants you to identify the overall sales trend.\n",
        "\n",
        "daily_sales = [220, 245, 210, 265, 230, 250, 260, 275, 240, 255,\n",
        "235, 260, 245, 250, 225, 270, 265, 255, 250, 260]\n",
        "\n",
        "● Explain how you would apply the Central Limit Theorem to estimate the average sales with a 95% confidence interval.\n",
        "\n",
        "● Write the Python code to compute the mean sales and its confidence interval\n",
        "\n",
        "Answer\n",
        "\n",
        "  - The CLT states that the sampling distribution of the sample mean will approach a normal distribution, regardless of the population's distribution, as the sample size becomes large (typically n ≥ 30).\n",
        "\n",
        "  - Even with a smaller dataset like this (n = 20), if the data is not heavily skewed, we can approximate the confidence interval using the t-distribution.\n",
        "\n",
        "  - For a 95% confidence level and a small sample (n < 30), we use the t-distribution instead of the normal distribution (Z)."
      ],
      "metadata": {
        "id": "0rd5Wwj4eD_T"
      }
    },
    {
      "cell_type": "code",
      "source": [
        "import numpy as np\n",
        "import scipy.stats as stats\n",
        "\n",
        "# Daily sales data\n",
        "daily_sales = [220, 245, 210, 265, 230, 250, 260, 275, 240, 255,\n",
        "               235, 260, 245, 250, 225, 270, 265, 255, 250, 260]\n",
        "\n",
        "# Convert to NumPy array\n",
        "sales_array = np.array(daily_sales)\n",
        "\n",
        "# Compute statistics\n",
        "sample_mean = np.mean(sales_array)\n",
        "sample_std = np.std(sales_array, ddof=1)  # Use ddof=1 for sample std\n",
        "n = len(sales_array)\n",
        "\n",
        "# Standard error\n",
        "standard_error = sample_std / np.sqrt(n)\n",
        "\n",
        "# 95% confidence interval\n",
        "z_score = 1.96\n",
        "margin_of_error = z_score * standard_error\n",
        "confidence_interval = (sample_mean - margin_of_error, sample_mean + margin_of_error)\n",
        "\n",
        "print(f\"Mean daily sales: {sample_mean:.2f}\")\n",
        "print(f\"95% Confidence Interval: ({confidence_interval[0]:.2f}, {confidence_interval[1]:.2f})\")"
      ],
      "metadata": {
        "colab": {
          "base_uri": "https://localhost:8080/"
        },
        "id": "09LtJ4Spdtfs",
        "outputId": "75a6921d-5af2-4e28-c5bc-e21e7f295e40"
      },
      "execution_count": 2,
      "outputs": [
        {
          "output_type": "stream",
          "name": "stdout",
          "text": [
            "Mean daily sales: 248.25\n",
            "95% Confidence Interval: (240.68, 255.82)\n"
          ]
        }
      ]
    }
  ]
}